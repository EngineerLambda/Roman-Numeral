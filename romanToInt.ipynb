{
 "cells": [
  {
   "cell_type": "markdown",
   "id": "26a75302",
   "metadata": {},
   "source": [
    "Roman Numeral to Interger"
   ]
  },
  {
   "cell_type": "code",
   "execution_count": 1,
   "id": "2f154fc3",
   "metadata": {
    "scrolled": true
   },
   "outputs": [
    {
     "name": "stdout",
     "output_type": "stream",
     "text": [
      "Enter Roman Numeral: MCDXXVI\n",
      "MCDXXVI in integer = 1426\n"
     ]
    }
   ],
   "source": [
    "#Taking input\n",
    "roman_str= input(\"Enter Roman Numeral: \")\n",
    "roman_str= roman_str.upper()\n",
    "roman_dict={\"I\":1,\n",
    "            \"V\":5,\n",
    "            \"X\":10,\n",
    "            \"L\":50,\n",
    "            \"C\":100,\n",
    "            \"D\":500,\n",
    "            \"M\":1000}\n",
    "def roman_to_int(char):\n",
    "    output = 0\n",
    "    for i in range(len(char)):\n",
    "        if i+1<len(char) and roman_dict[char[i]]<roman_dict[char[i+1]]:\n",
    "            output-=roman_dict[char[i]]\n",
    "        else:\n",
    "            output +=roman_dict[char[i]]\n",
    "    print(roman_str+\" in integer =\",output)\n",
    "roman_to_int(roman_str)"
   ]
  }
 ],
 "metadata": {
  "kernelspec": {
   "display_name": "Python 3 (ipykernel)",
   "language": "python",
   "name": "python3"
  },
  "language_info": {
   "codemirror_mode": {
    "name": "ipython",
    "version": 3
   },
   "file_extension": ".py",
   "mimetype": "text/x-python",
   "name": "python",
   "nbconvert_exporter": "python",
   "pygments_lexer": "ipython3",
   "version": "3.9.7"
  }
 },
 "nbformat": 4,
 "nbformat_minor": 5
}
