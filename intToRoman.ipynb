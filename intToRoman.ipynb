{
 "cells": [
  {
   "cell_type": "markdown",
   "id": "1fe69284",
   "metadata": {},
   "source": [
    "Integer to Roman numeral"
   ]
  },
  {
   "cell_type": "code",
   "execution_count": 3,
   "id": "67d450bc",
   "metadata": {},
   "outputs": [
    {
     "name": "stdout",
     "output_type": "stream",
     "text": [
      "Enter the number you want to convert: 9555\n",
      "The roman numeral equvalent is: MMMMMMMMMDLV\n"
     ]
    }
   ],
   "source": [
    "roman_dict={1:\"I\",2:\"II\",3:\"III\",4:\"IV\",5:\"V\",6:\"VI\",7:\"VII\",8:\"VIII\",9:\"IX\",\n",
    "            10:\"X\",20:\"XX\",30:\"XXX\",40:\"XL\",50:\"L\",60:\"LX\",70:\"LXX\",80:\"LXXX\",90:\"XC\",\n",
    "            100:\"C\",200:\"CC\",300:\"CCC\",400:\"CD\",500:\"D\",600:\"DC\",700:\"DCC\",800:\"DCCC\",900:\"CM\",\n",
    "            1000:\"M\"\n",
    "           }\n",
    "string=\"\"\n",
    "def intToRoman(num:str):\n",
    "    list1=list(map(lambda x: int(x),num))\n",
    "    list2=list1[::-1]\n",
    "    final=[list2[i]*(10**i) for i in range(len(list2))]\n",
    "    for j in final:\n",
    "        if j>1000:\n",
    "            final.remove(j)\n",
    "            for m in range(j//1000):\n",
    "                final.append(1000)\n",
    "    final.reverse()\n",
    "    return final\n",
    "inp = input(\"Enter the number you want to convert: \")\n",
    "y=intToRoman(inp)\n",
    "\n",
    "for x in y:\n",
    "    string += roman_dict[x]        \n",
    "print(\"The roman numeral equvalent is: \"+string)\n",
    "#Very nice"
   ]
  }
 ],
 "metadata": {
  "kernelspec": {
   "display_name": "Python 3 (ipykernel)",
   "language": "python",
   "name": "python3"
  },
  "language_info": {
   "codemirror_mode": {
    "name": "ipython",
    "version": 3
   },
   "file_extension": ".py",
   "mimetype": "text/x-python",
   "name": "python",
   "nbconvert_exporter": "python",
   "pygments_lexer": "ipython3",
   "version": "3.9.7"
  }
 },
 "nbformat": 4,
 "nbformat_minor": 5
}
